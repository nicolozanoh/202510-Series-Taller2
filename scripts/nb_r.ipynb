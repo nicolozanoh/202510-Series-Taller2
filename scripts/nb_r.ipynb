{
 "cells": [
  {
   "cell_type": "markdown",
   "metadata": {},
   "source": [
    "## **Configuracion Inicial**"
   ]
  },
  {
   "cell_type": "code",
   "execution_count": 1,
   "metadata": {
    "vscode": {
     "languageId": "r"
    }
   },
   "outputs": [
    {
     "name": "stderr",
     "output_type": "stream",
     "text": [
      "Cargando paquete requerido: pacman\n",
      "\n"
     ]
    },
    {
     "data": {
      "text/html": [
       "'c:/Users/NicolasLozano/OneDrive - Universidad de los andes/UNIVERSIDAD/9. NOVENO SEMESTRE/SERIES DE TIEMPO/TALLERES/202510-Series-Taller2'"
      ],
      "text/latex": [
       "'c:/Users/NicolasLozano/OneDrive - Universidad de los andes/UNIVERSIDAD/9. NOVENO SEMESTRE/SERIES DE TIEMPO/TALLERES/202510-Series-Taller2'"
      ],
      "text/markdown": [
       "'c:/Users/NicolasLozano/OneDrive - Universidad de los andes/UNIVERSIDAD/9. NOVENO SEMESTRE/SERIES DE TIEMPO/TALLERES/202510-Series-Taller2'"
      ],
      "text/plain": [
       "[1] \"c:/Users/NicolasLozano/OneDrive - Universidad de los andes/UNIVERSIDAD/9. NOVENO SEMESTRE/SERIES DE TIEMPO/TALLERES/202510-Series-Taller2\""
      ]
     },
     "metadata": {},
     "output_type": "display_data"
    }
   ],
   "source": [
    "rm(list=ls())\n",
    "\n",
    "require(pacman)\n",
    "\n",
    "p_load(\"dplyr\",\n",
    "       \"tidyverse\",\n",
    "       \"rugarch\",\n",
    "       \"readxl\",\n",
    "       \"xts\",\n",
    "       \"ggplot2\",\n",
    "       \"stargazer\")\n",
    "\n",
    "if (tail(strsplit(getwd(), \"/\")[[1]], n = 1) == \"scripts\") {\n",
    "  setwd(\"..\")\n",
    "}\n",
    "\n",
    "getwd()\n"
   ]
  },
  {
   "cell_type": "markdown",
   "metadata": {},
   "source": [
    "## **Cargue y preparacion de datos**"
   ]
  },
  {
   "cell_type": "code",
   "execution_count": 2,
   "metadata": {
    "vscode": {
     "languageId": "r"
    }
   },
   "outputs": [
    {
     "data": {
      "text/html": [
       "0.471212065093152"
      ],
      "text/latex": [
       "0.471212065093152"
      ],
      "text/markdown": [
       "0.471212065093152"
      ],
      "text/plain": [
       "[1] 0.4712121"
      ]
     },
     "metadata": {},
     "output_type": "display_data"
    }
   ],
   "source": [
    "trm  <- read_excel(\"data\\\\TRM.xlsx\")\n",
    "\n",
    "trm  <- trm %>% rename(\n",
    "                        fecha = `Fecha (dd/mm/aaaa)`,\n",
    "                        trm = `Tasa de cambio representativa del mercado (TRM)`\n",
    "                        )\n",
    "\n",
    "trm$fecha <- as.Date(trm$fecha)\n",
    "\n",
    "trm  <- trm[order(trm$fecha),]\n",
    "\n",
    "trm <- trm %>%\n",
    "  mutate(fecha = format(fecha, \"%Y-%m\")) %>%\n",
    "  group_by(fecha) %>%\n",
    "  summarise(trm = mean(trm, na.rm = TRUE))  %>% \n",
    "  ungroup()\n",
    "\n",
    "trm  <- trm %>% mutate(\n",
    "                        retorno = 100*(log(trm)-log(lag(trm,1)))\n",
    "                        )\n",
    "\n",
    "trm  <- na.omit(trm)\n",
    "\n",
    "mean(trm$retorno, na.omit = TRUE)\n"
   ]
  },
  {
   "cell_type": "markdown",
   "metadata": {},
   "source": [
    "## **2.f. Dinámicas de varianza (parte 2)**"
   ]
  },
  {
   "cell_type": "code",
   "execution_count": 3,
   "metadata": {
    "vscode": {
     "languageId": "r"
    }
   },
   "outputs": [
    {
     "name": "stdout",
     "output_type": "stream",
     "text": [
      "\n",
      "*---------------------------------*\n",
      "*          GARCH Model Fit        *\n",
      "*---------------------------------*\n",
      "\n",
      "Conditional Variance Dynamics \t\n",
      "-----------------------------------\n",
      "GARCH Model\t: sGARCH(1,1)\n",
      "Mean Model\t: ARFIMA(0,0,1)\n",
      "Distribution\t: norm \n",
      "\n",
      "Optimal Parameters\n",
      "------------------------------------\n",
      "        Estimate  Std. Error  t value Pr(>|t|)\n",
      "mu       0.49753    0.160505   3.0998 0.001936\n",
      "ma1      0.37352    0.048058   7.7723 0.000000\n",
      "omega    0.32184    0.154241   2.0866 0.036925\n",
      "alpha1   0.16421    0.046001   3.5697 0.000357\n",
      "beta1    0.80766    0.046482  17.3758 0.000000\n",
      "\n",
      "Robust Standard Errors:\n",
      "        Estimate  Std. Error  t value Pr(>|t|)\n",
      "mu       0.49753    0.178561   2.7863 0.005331\n",
      "ma1      0.37352    0.049221   7.5887 0.000000\n",
      "omega    0.32184    0.166519   1.9327 0.053269\n",
      "alpha1   0.16421    0.058355   2.8140 0.004893\n",
      "beta1    0.80766    0.049449  16.3332 0.000000\n",
      "\n",
      "LogLikelihood : -938.5501 \n",
      "\n",
      "Information Criteria\n",
      "------------------------------------\n",
      "                   \n",
      "Akaike       4.7296\n",
      "Bayes        4.7796\n",
      "Shibata      4.7293\n",
      "Hannan-Quinn 4.7494\n",
      "\n",
      "Weighted Ljung-Box Test on Standardized Residuals\n",
      "------------------------------------\n",
      "                        statistic p-value\n",
      "Lag[1]                     0.1506  0.6980\n",
      "Lag[2*(p+q)+(p+q)-1][2]    0.5257  0.9579\n",
      "Lag[4*(p+q)+(p+q)-1][5]    0.9904  0.9483\n",
      "d.o.f=1\n",
      "H0 : No serial correlation\n",
      "\n",
      "Weighted Ljung-Box Test on Standardized Squared Residuals\n",
      "------------------------------------\n",
      "                        statistic p-value\n",
      "Lag[1]                    0.01492  0.9028\n",
      "Lag[2*(p+q)+(p+q)-1][5]   0.39699  0.9724\n",
      "Lag[4*(p+q)+(p+q)-1][9]   1.05962  0.9837\n",
      "d.o.f=2\n",
      "\n",
      "Weighted ARCH LM Tests\n",
      "------------------------------------\n",
      "            Statistic Shape Scale P-Value\n",
      "ARCH Lag[3]    0.5622 0.500 2.000  0.4534\n",
      "ARCH Lag[5]    0.5948 1.440 1.667  0.8553\n",
      "ARCH Lag[7]    1.2515 2.315 1.543  0.8695\n",
      "\n",
      "Nyblom stability test\n",
      "------------------------------------\n",
      "Joint Statistic:  1.6338\n",
      "Individual Statistics:             \n",
      "mu     0.5238\n",
      "ma1    0.3685\n",
      "omega  0.2248\n",
      "alpha1 0.1636\n",
      "beta1  0.1573\n",
      "\n",
      "Asymptotic Critical Values (10% 5% 1%)\n",
      "Joint Statistic:     \t 1.28 1.47 1.88\n",
      "Individual Statistic:\t 0.35 0.47 0.75\n",
      "\n",
      "Sign Bias Test\n",
      "------------------------------------\n",
      "                   t-value     prob sig\n",
      "Sign Bias           2.9719 0.003141 ***\n",
      "Negative Sign Bias  0.7063 0.480429    \n",
      "Positive Sign Bias  0.5190 0.604019    \n",
      "Joint Effect       12.7353 0.005245 ***\n",
      "\n",
      "\n",
      "Adjusted Pearson Goodness-of-Fit Test:\n",
      "------------------------------------\n",
      "  group statistic p-value(g-1)\n",
      "1    20     19.30       0.4380\n",
      "2    30     32.50       0.2982\n",
      "3    40     43.41       0.2891\n",
      "4    50     54.76       0.2653\n",
      "\n",
      "\n",
      "Elapsed time : 0.2191038 \n",
      "\n"
     ]
    },
    {
     "data": {
      "text/html": [
       "<table class=\"dataframe\">\n",
       "<caption>A tibble: 6 × 5</caption>\n",
       "<thead>\n",
       "\t<tr><th scope=col>fecha</th><th scope=col>trm</th><th scope=col>retorno</th><th scope=col>resid_std</th><th scope=col>resid_std2</th></tr>\n",
       "\t<tr><th scope=col>&lt;chr&gt;</th><th scope=col>&lt;dbl&gt;</th><th scope=col>&lt;dbl&gt;</th><th scope=col>&lt;dbl[,1]&gt;</th><th scope=col>&lt;dbl[,1]&gt;</th></tr>\n",
       "</thead>\n",
       "<tbody>\n",
       "\t<tr><td>1992-01</td><td>644.0581</td><td> 2.141439</td><td> 0.9944087</td><td>0.9888486</td></tr>\n",
       "\t<tr><td>1992-02</td><td>635.6717</td><td>-1.310661</td><td>-1.5001113</td><td>2.2503338</td></tr>\n",
       "\t<tr><td>1992-03</td><td>640.5019</td><td> 0.756987</td><td> 0.7215977</td><td>0.5207032</td></tr>\n",
       "\t<tr><td>1992-04</td><td>649.9550</td><td> 1.465099</td><td> 0.3401329</td><td>0.1156904</td></tr>\n",
       "\t<tr><td>1992-05</td><td>659.7713</td><td> 1.499012</td><td> 0.5307181</td><td>0.2816617</td></tr>\n",
       "\t<tr><td>1992-06</td><td>677.1653</td><td> 2.602221</td><td> 1.2291380</td><td>1.5107802</td></tr>\n",
       "</tbody>\n",
       "</table>\n"
      ],
      "text/latex": [
       "A tibble: 6 × 5\n",
       "\\begin{tabular}{lllll}\n",
       " fecha & trm & retorno & resid\\_std & resid\\_std2\\\\\n",
       " <chr> & <dbl> & <dbl> & <dbl{[},1{]}> & <dbl{[},1{]}>\\\\\n",
       "\\hline\n",
       "\t 1992-01 & 644.0581 &  2.141439 &  0.9944087 & 0.9888486\\\\\n",
       "\t 1992-02 & 635.6717 & -1.310661 & -1.5001113 & 2.2503338\\\\\n",
       "\t 1992-03 & 640.5019 &  0.756987 &  0.7215977 & 0.5207032\\\\\n",
       "\t 1992-04 & 649.9550 &  1.465099 &  0.3401329 & 0.1156904\\\\\n",
       "\t 1992-05 & 659.7713 &  1.499012 &  0.5307181 & 0.2816617\\\\\n",
       "\t 1992-06 & 677.1653 &  2.602221 &  1.2291380 & 1.5107802\\\\\n",
       "\\end{tabular}\n"
      ],
      "text/markdown": [
       "\n",
       "A tibble: 6 × 5\n",
       "\n",
       "| fecha &lt;chr&gt; | trm &lt;dbl&gt; | retorno &lt;dbl&gt; | resid_std &lt;dbl[,1]&gt; | resid_std2 &lt;dbl[,1]&gt; |\n",
       "|---|---|---|---|---|\n",
       "| 1992-01 | 644.0581 |  2.141439 |  0.9944087 | 0.9888486 |\n",
       "| 1992-02 | 635.6717 | -1.310661 | -1.5001113 | 2.2503338 |\n",
       "| 1992-03 | 640.5019 |  0.756987 |  0.7215977 | 0.5207032 |\n",
       "| 1992-04 | 649.9550 |  1.465099 |  0.3401329 | 0.1156904 |\n",
       "| 1992-05 | 659.7713 |  1.499012 |  0.5307181 | 0.2816617 |\n",
       "| 1992-06 | 677.1653 |  2.602221 |  1.2291380 | 1.5107802 |\n",
       "\n"
      ],
      "text/plain": [
       "  fecha   trm      retorno   resid_std  resid_std2\n",
       "1 1992-01 644.0581  2.141439  0.9944087 0.9888486 \n",
       "2 1992-02 635.6717 -1.310661 -1.5001113 2.2503338 \n",
       "3 1992-03 640.5019  0.756987  0.7215977 0.5207032 \n",
       "4 1992-04 649.9550  1.465099  0.3401329 0.1156904 \n",
       "5 1992-05 659.7713  1.499012  0.5307181 0.2816617 \n",
       "6 1992-06 677.1653  2.602221  1.2291380 1.5107802 "
      ]
     },
     "metadata": {},
     "output_type": "display_data"
    }
   ],
   "source": [
    "model_spec  <- ugarchspec(\n",
    "                          variance.model = list(model = \"sGARCH\", garchOrder = c(1, 1)), # nolint: line_length_linter.\n",
    "                          mean.model = list(armaOrder = c(0, 1), include.mean = TRUE),  # nolint: line_length_linter.\n",
    "                          distribution.model = \"norm\"\n",
    "                        )\n",
    "\n",
    "model  <- ugarchfit(spec = model_spec, data = trm$retorno)\n",
    "\n",
    "show(model)\n",
    "\n",
    "resid <-  residuals(model)\n",
    "\n",
    "var  <- sigma(model)\n",
    "\n",
    "resid_std  <-  resid / sqrt(var)\n",
    "\n",
    "resid_std2  <- resid_std^2\n",
    "\n",
    "trm$resid_std  <- coredata(resid_std)\n",
    "\n",
    "trm$resid_std2  <- coredata(resid_std2)\n",
    "\n",
    "head(trm)\n"
   ]
  },
  {
   "cell_type": "markdown",
   "metadata": {},
   "source": [
    "## **2.g. Verificar que el modelo captura las dinamicas**"
   ]
  },
  {
   "cell_type": "code",
   "execution_count": 4,
   "metadata": {
    "vscode": {
     "languageId": "r"
    }
   },
   "outputs": [
    {
     "data": {
      "image/png": "[encoded data removed]",
      "text/plain": [
       "plot without title"
      ]
     },
     "metadata": {
      "image/png": {
       "height": 420,
       "width": 420
      }
     },
     "output_type": "display_data"
    },
    {
     "data": {
      "image/png": "[encoded data removed]",
      "text/plain": [
       "plot without title"
      ]
     },
     "metadata": {
      "image/png": {
       "height": 420,
       "width": 420
      }
     },
     "output_type": "display_data"
    }
   ],
   "source": [
    "trm$fecha <- as.Date(paste0(trm$fecha, \"-01\"))\n",
    "\n",
    "plot  <-  ggplot(trm, aes(x = fecha, y = resid_std,group=1)) +\n",
    "  geom_line(color = \"steelblue\") +\n",
    "  labs(title = \"Residuales Estandarizados\", x = \"Fecha\", y = \"Rsidual\") +\n",
    "  geom_hline(yintercept = 0, linetype = \"dashed\", color = \"#000000\") +\n",
    "  theme_minimal() +\n",
    "  theme(\n",
    "    axis.text.x = element_text(angle = 45, hjust = 1),\n",
    "    plot.title = element_text(hjust = 0.5),\n",
    "    panel.background = element_rect(fill = \"#ffffff\"),\n",
    "    plot.background = element_rect(fill = \"#ffffff\", color = NA)\n",
    "  )\n",
    "plot\n",
    "\n",
    "ggsave(\"output\\\\graf_resistd.png\", plot = plot, width = 8, height = 6, dpi = 300)\n",
    "\n",
    "plot  <-  ggplot(trm, aes(x = fecha, y = resid_std2,group=1)) +\n",
    "  geom_line(color = \"#ff0000\") +\n",
    "  labs(title = \"Residuales Estandarizados al Cuadrado\", x = \"Fecha\", y = \"Residual\") +\n",
    "  geom_hline(yintercept = 0, linetype = \"dashed\", color = \"#000000\") +\n",
    "  theme_minimal() +\n",
    "  theme(\n",
    "    axis.text.x = element_text(angle = 45, hjust = 1),\n",
    "    plot.title = element_text(hjust = 0.5),\n",
    "    panel.background = element_rect(fill = \"#ffffff\"),\n",
    "    plot.background = element_rect(fill = \"#ffffff\", color = NA)\n",
    "  )\n",
    "\n",
    "plot\n",
    "\n",
    "ggsave(\"output\\\\graf_resistd2.png\", plot = plot, width = 8, height = 6, dpi = 300)"
   ]
  },
  {
   "cell_type": "code",
   "execution_count": 5,
   "metadata": {
    "vscode": {
     "languageId": "r"
    }
   },
   "outputs": [
    {
     "data": {
      "text/html": [
       "<table class=\"dataframe\">\n",
       "<caption>A data.frame: 3 × 3</caption>\n",
       "<thead>\n",
       "\t<tr><th scope=col>Rezago</th><th scope=col>Estadistico</th><th scope=col>p_valor</th></tr>\n",
       "\t<tr><th scope=col>&lt;dbl&gt;</th><th scope=col>&lt;dbl&gt;</th><th scope=col>&lt;dbl&gt;</th></tr>\n",
       "</thead>\n",
       "<tbody>\n",
       "\t<tr><td> 5</td><td> 3.768133</td><td>0.5832582</td></tr>\n",
       "\t<tr><td>10</td><td> 8.231610</td><td>0.6062250</td></tr>\n",
       "\t<tr><td>15</td><td>13.362952</td><td>0.5742857</td></tr>\n",
       "</tbody>\n",
       "</table>\n"
      ],
      "text/latex": [
       "A data.frame: 3 × 3\n",
       "\\begin{tabular}{lll}\n",
       " Rezago & Estadistico & p\\_valor\\\\\n",
       " <dbl> & <dbl> & <dbl>\\\\\n",
       "\\hline\n",
       "\t  5 &  3.768133 & 0.5832582\\\\\n",
       "\t 10 &  8.231610 & 0.6062250\\\\\n",
       "\t 15 & 13.362952 & 0.5742857\\\\\n",
       "\\end{tabular}\n"
      ],
      "text/markdown": [
       "\n",
       "A data.frame: 3 × 3\n",
       "\n",
       "| Rezago &lt;dbl&gt; | Estadistico &lt;dbl&gt; | p_valor &lt;dbl&gt; |\n",
       "|---|---|---|\n",
       "|  5 |  3.768133 | 0.5832582 |\n",
       "| 10 |  8.231610 | 0.6062250 |\n",
       "| 15 | 13.362952 | 0.5742857 |\n",
       "\n"
      ],
      "text/plain": [
       "  Rezago Estadistico p_valor  \n",
       "1  5      3.768133   0.5832582\n",
       "2 10      8.231610   0.6062250\n",
       "3 15     13.362952   0.5742857"
      ]
     },
     "metadata": {},
     "output_type": "display_data"
    },
    {
     "name": "stdout",
     "output_type": "stream",
     "text": [
      "\n",
      "% Table created by stargazer v.5.2.3 by Marek Hlavac, Social Policy Institute. E-mail: marek.hlavac at gmail.com\n",
      "% Date and time: dom, abr 06, 2025 - 19:29:15\n",
      "\\begin{table}[!htbp] \\centering \n",
      "  \\caption{Prueba Q para Residuales Estandarizados al Cuadrado} \n",
      "  \\label{tab:q_residstd2} \n",
      "\\begin{tabular}{@{\\extracolsep{5pt}} ccc} \n",
      "\\\\[-1.8ex]\\hline \n",
      "\\hline \\\\[-1.8ex] \n",
      "Rezago & Estadistico & p\\_valor \\\\ \n",
      "\\hline \\\\[-1.8ex] \n",
      "$5$ & $3.768$ & $0.583$ \\\\ \n",
      "$10$ & $8.232$ & $0.606$ \\\\ \n",
      "$15$ & $13.363$ & $0.574$ \\\\ \n",
      "\\hline \\\\[-1.8ex] \n",
      "\\end{tabular} \n",
      "\\end{table} \n"
     ]
    }
   ],
   "source": [
    "lags <- c(5, 10, 15)\n",
    "\n",
    "results <- lapply(lags, function(lag_val) {\n",
    "  test <- Box.test(trm$resid_std2, lag = lag_val, type = \"Ljung-Box\")\n",
    "  data.frame(\n",
    "    Rezago = lag_val,\n",
    "    `Estadistico` = test$statistic,\n",
    "    p_valor = test$p.value\n",
    "  )\n",
    "})\n",
    "\n",
    "\n",
    "df_q_test <- do.call(rbind, results)\n",
    "\n",
    "rownames(df_q_test) <- NULL\n",
    "\n",
    "df_q_test\n",
    "\n",
    "latex_txt  <- stargazer(as.matrix(df_q_test), summary = FALSE, rownames = FALSE, type = \"latex\", label = \"tab:q_residstd2\",title = \"Prueba Q para Residuales Estandarizados al Cuadrado\")\n",
    "\n",
    "\n",
    "latex_txt <- gsub(\n",
    "  pattern = \"^\\\\\\\\begin\\\\{table\\\\}\\\\[!htbp\\\\] \\\\\\\\centering\",\n",
    "  replacement = \"\\\\\\\\begin{table}[H] \\\\\\\\centering\",\n",
    "  x = latex_txt\n",
    ")\n",
    "\n",
    "writeLines(latex_txt, \"output\\\\q_resid2.tex\")\n"
   ]
  },
  {
   "cell_type": "markdown",
   "metadata": {},
   "source": [
    "# **2.h Pronostico 1 paso adelante**"
   ]
  },
  {
   "cell_type": "code",
   "execution_count": 6,
   "metadata": {
    "vscode": {
     "languageId": "r"
    }
   },
   "outputs": [
    {
     "data": {
      "text/html": [
       "<table class=\"dataframe\">\n",
       "<caption>A data.frame: 1 × 2</caption>\n",
       "<thead>\n",
       "\t<tr><th scope=col>Retorno</th><th scope=col>Varianza</th></tr>\n",
       "\t<tr><th scope=col>&lt;dbl&gt;</th><th scope=col>&lt;dbl&gt;</th></tr>\n",
       "</thead>\n",
       "<tbody>\n",
       "\t<tr><td>0.9349917</td><td>6.963253</td></tr>\n",
       "</tbody>\n",
       "</table>\n"
      ],
      "text/latex": [
       "A data.frame: 1 × 2\n",
       "\\begin{tabular}{ll}\n",
       " Retorno & Varianza\\\\\n",
       " <dbl> & <dbl>\\\\\n",
       "\\hline\n",
       "\t 0.9349917 & 6.963253\\\\\n",
       "\\end{tabular}\n"
      ],
      "text/markdown": [
       "\n",
       "A data.frame: 1 × 2\n",
       "\n",
       "| Retorno &lt;dbl&gt; | Varianza &lt;dbl&gt; |\n",
       "|---|---|\n",
       "| 0.9349917 | 6.963253 |\n",
       "\n"
      ],
      "text/plain": [
       "  Retorno   Varianza\n",
       "1 0.9349917 6.963253"
      ]
     },
     "metadata": {},
     "output_type": "display_data"
    },
    {
     "name": "stdout",
     "output_type": "stream",
     "text": [
      "\n",
      "% Table created by stargazer v.5.2.3 by Marek Hlavac, Social Policy Institute. E-mail: marek.hlavac at gmail.com\n",
      "% Date and time: dom, abr 06, 2025 - 19:29:15\n",
      "\\begin{table}[!htbp] \\centering \n",
      "  \\caption{Pron\\'ostico 1 Paso Adelante} \n",
      "  \\label{tab:1_step} \n",
      "\\begin{tabular}{@{\\extracolsep{5pt}} cc} \n",
      "\\\\[-1.8ex]\\hline \n",
      "\\hline \\\\[-1.8ex] \n",
      "Retorno & Varianza \\\\ \n",
      "\\hline \\\\[-1.8ex] \n",
      "$0.935$ & $6.963$ \\\\ \n",
      "\\hline \\\\[-1.8ex] \n",
      "\\end{tabular} \n",
      "\\end{table} \n"
     ]
    }
   ],
   "source": [
    "fcast_1h  <- ugarchforecast(model, n.ahead = 1)\n",
    "\n",
    "retorno <- fitted(fcast_1h)\n",
    "\n",
    "varianza  <- sigma(fcast_1h)^2\n",
    "\n",
    "df_pronostico  <- data.frame(\n",
    "    Retorno = retorno,\n",
    "    Varianza = varianza\n",
    "  )\n",
    "colnames(df_pronostico)  <- c(\"Retorno\", \"Varianza\")\n",
    "rownames(df_pronostico) <- NULL\n",
    "\n",
    "df_pronostico\n",
    "\n",
    "latex_txt  <- stargazer(\n",
    "  as.matrix(df_pronostico),\n",
    "  summary = FALSE,\n",
    "  rownames = FALSE, type = \"latex\",\n",
    "  label = \"tab:1_step\",\n",
    "  title = \"Pron\\\\'ostico 1 Paso Adelante\")\n",
    "\n",
    "latex_txt <- gsub(\n",
    "  pattern = \"^\\\\\\\\begin\\\\{table\\\\}\\\\[!htbp\\\\] \\\\\\\\centering\",\n",
    "  replacement = \"\\\\\\\\begin{table}[H] \\\\\\\\centering\",\n",
    "  x = latex_txt\n",
    ")\n",
    "\n",
    "writeLines(latex_txt, \"output\\\\1h_forcast.tex\")"
   ]
  },
  {
   "cell_type": "markdown",
   "metadata": {},
   "source": [
    "# **2.i. Simulaciones**"
   ]
  },
  {
   "cell_type": "code",
   "execution_count": 7,
   "metadata": {
    "vscode": {
     "languageId": "r"
    }
   },
   "outputs": [
    {
     "name": "stderr",
     "output_type": "stream",
     "text": [
      "Warning message:\n",
      "\"\u001b[1m\u001b[22mUsing `size` aesthetic for lines was deprecated in ggplot2 3.4.0.\n",
      "\u001b[36mℹ\u001b[39m Please use `linewidth` instead.\"\n",
      "Warning message:\n",
      "\"\u001b[1m\u001b[22mThe dot-dot notation (`..density..`) was deprecated in ggplot2 3.4.0.\n",
      "\u001b[36mℹ\u001b[39m Please use `after_stat(density)` instead.\"\n"
     ]
    },
    {
     "data": {
      "image/png": "[encoded data removed]",
      "text/plain": [
       "plot without title"
      ]
     },
     "metadata": {
      "image/png": {
       "height": 420,
       "width": 420
      }
     },
     "output_type": "display_data"
    }
   ],
   "source": [
    "sim <- ugarchsim(model, n.sim = 1, m.sim = 1000, startMethod = \"sample\")\n",
    "\n",
    "retornos  <- fitted(sim)[1,]\n",
    "\n",
    "sim_df <- data.frame(retornos = retornos)\n",
    "\n",
    "ic  <- quantile(retornos, probs = c(0.25, 0.975))\n",
    "\n",
    "media  <- mean(retornos)\n",
    "\n",
    "plot <- ggplot(sim_df, aes(x = retornos)) +\n",
    "  geom_histogram(aes(y = ..density..), binwidth = 1, fill = \"skyblue\", color = \"black\",) +\n",
    "  geom_density(color = \"darkblue\", size = 1) +\n",
    "  geom_vline(xintercept = retorno,\n",
    "             color = \"red\",\n",
    "             linetype = \"solid\",\n",
    "             size = 1.2) +\n",
    "  geom_vline(xintercept = ic,\n",
    "             color = \"darkgreen\",\n",
    "             linetype = \"dashed\",\n",
    "             size = 1.2) +\n",
    "  labs(title = \"Simulación de Retornos TRM - Abril 2025\",\n",
    "       x = \"Retorno mensual simulado\",\n",
    "       y = \"Densidad\") +\n",
    "  annotate(\"text\",\n",
    "           x = retorno,\n",
    "           y = Inf,\n",
    "           label = \"Pronostico \\n Punto\",\n",
    "           vjust = 2,\n",
    "           color = \"red\") +\n",
    "  annotate(\"text\",\n",
    "           x = ic[1],\n",
    "           y = Inf,\n",
    "           label = \"2.5%\",\n",
    "           vjust = 2,\n",
    "           color = \"darkgreen\") +\n",
    "  annotate(\"text\",\n",
    "           x = ic[2],\n",
    "           y = Inf,\n",
    "           label = \"97.5%\",\n",
    "           vjust = 2,\n",
    "           color = \"darkgreen\") +\n",
    "  theme_minimal() +\n",
    "  theme(\n",
    "    plot.title = element_text(hjust = 0.5),\n",
    "    panel.background = element_rect(fill = \"#ffffff\"),\n",
    "    plot.background = element_rect(fill = \"#ffffff\", color = NA)\n",
    "  )\n",
    "plot\n",
    "ggsave(\"output\\\\hist_sim.png\", plot = plot, width = 8, height = 6, dpi = 300)"
   ]
  },
  {
   "cell_type": "markdown",
   "metadata": {},
   "source": [
    "# **2.j PyG**"
   ]
  },
  {
   "cell_type": "code",
   "execution_count": null,
   "metadata": {
    "vscode": {
     "languageId": "r"
    }
   },
   "outputs": [
    {
     "data": {
      "image/png": "[encoded data removed]",
      "text/plain": [
       "plot without title"
      ]
     },
     "metadata": {
      "image/png": {
       "height": 420,
       "width": 420
      }
     },
     "output_type": "display_data"
    }
   ],
   "source": [
    "sim_df2  <- data.frame(\n",
    "  retornos=sim_df$retornos * 20000000\n",
    ")\n",
    "\n",
    "p_punto  <- retorno * 20000000\n",
    "\n",
    "ic  <- quantile(sim_df2$retornos, probs = c(0.25, 0.975))\n",
    "\n",
    "media  <- mean(sim_df2$retornos)\n",
    "\n",
    "plot <- ggplot(sim_df2, aes(x = retornos)) +\n",
    "  geom_histogram(aes(y = ..density..), bins = 50, fill = \"skyblue\", color = \"black\",) +\n",
    "  geom_density(color = \"darkblue\", size = 1) +\n",
    "  geom_vline(xintercept = p_punto,\n",
    "             color = \"red\",\n",
    "             linetype = \"solid\",\n",
    "             size = 1.2) +\n",
    "  geom_vline(xintercept = ic,\n",
    "             color = \"darkgreen\",\n",
    "             linetype = \"dashed\",\n",
    "             size = 1.2) +\n",
    "  labs(title = \"Simulación de PyG - Abril 2025\",\n",
    "       x = \"Retorno mensual simulado\",\n",
    "       y = \"Densidad\") +\n",
    "  annotate(\"text\",\n",
    "           x = p_punto,\n",
    "           y = Inf,\n",
    "           label = \"Pronostico \\n Punto\",\n",
    "           vjust = 2,\n",
    "           color = \"red\") +\n",
    "  annotate(\"text\",\n",
    "           x = ic[1],\n",
    "           y = Inf,\n",
    "           label = \"2.5%\",\n",
    "           vjust = 2,\n",
    "           color = \"darkgreen\") +\n",
    "  annotate(\"text\",\n",
    "           x = ic[2],\n",
    "           y = Inf,\n",
    "           label = \"97.5%\",\n",
    "           vjust = 2,\n",
    "           color = \"darkgreen\") +\n",
    "  theme_minimal() +\n",
    "  theme(\n",
    "    plot.title = element_text(hjust = 0.5),\n",
    "    panel.background = element_rect(fill = \"#ffffff\"),\n",
    "    plot.background = element_rect(fill = \"#ffffff\", color = NA)\n",
    "  )\n",
    "plot\n",
    "ggsave(\"output\\\\hist_sim_pg.png\", plot = plot, width = 8, height = 6, dpi = 300)\n"
   ]
  }
 ],
 "metadata": {
  "kernelspec": {
   "display_name": "R",
   "language": "R",
   "name": "ir"
  },
  "language_info": {
   "codemirror_mode": "r",
   "file_extension": ".r",
   "mimetype": "text/x-r-source",
   "name": "R",
   "pygments_lexer": "r",
   "version": "4.4.2"
  }
 },
 "nbformat": 4,
 "nbformat_minor": 2
}
