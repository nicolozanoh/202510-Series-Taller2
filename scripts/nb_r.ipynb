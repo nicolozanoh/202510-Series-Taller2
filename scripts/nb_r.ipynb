{
 "cells": [
  {
   "cell_type": "markdown",
   "metadata": {},
   "source": [
    "## **Configuracion Inicial**"
   ]
  },
  {
   "cell_type": "code",
   "execution_count": null,
   "metadata": {
    "vscode": {
     "languageId": "r"
    }
   },
   "outputs": [],
   "source": [
    "rm(list=ls())\n",
    "\n",
    "require(pacman)\n",
    "\n",
    "p_load(\"dplyr\",\n",
    "       \"tidyverse\",\n",
    "       \"rugarch\",\n",
    "       \"readxl\",\n",
    "       \"xts\",\n",
    "       \"ggplot2\",\n",
    "       \"stargazer\")\n",
    "\n",
    "if (tail(strsplit(getwd(), \"/\")[[1]], n = 1) == \"scripts\") {\n",
    "  setwd(\"..\")\n",
    "}\n",
    "\n",
    "getwd()\n"
   ]
  },
  {
   "cell_type": "markdown",
   "metadata": {},
   "source": [
    "## **Cargue y preparacion de datos**"
   ]
  },
  {
   "cell_type": "code",
   "execution_count": null,
   "metadata": {
    "vscode": {
     "languageId": "r"
    }
   },
   "outputs": [],
   "source": [
    "trm  <- read_excel(\"data\\\\TRM.xlsx\")\n",
    "\n",
    "trm  <- trm %>% rename(\n",
    "                        fecha = `Fecha (dd/mm/aaaa)`,\n",
    "                        trm = `Tasa de cambio representativa del mercado (TRM)`\n",
    "                        )\n",
    "\n",
    "trm$fecha <- as.Date(trm$fecha)\n",
    "\n",
    "trm  <- trm[order(trm$fecha),]\n",
    "\n",
    "trm <- trm %>%\n",
    "  mutate(fecha = format(fecha, \"%Y-%m\")) %>%\n",
    "  group_by(fecha) %>%\n",
    "  summarise(trm = mean(trm, na.rm = TRUE))  %>% \n",
    "  ungroup()\n",
    "\n",
    "trm  <- trm %>% mutate(\n",
    "                        retorno = 100*(log(trm)-log(lag(trm,1)))\n",
    "                        )\n",
    "\n",
    "trm  <- na.omit(trm)\n",
    "\n",
    "mean(trm$retorno, na.omit = TRUE)\n"
   ]
  },
  {
   "cell_type": "markdown",
   "metadata": {},
   "source": [
    "## **2.f. Dinámicas de varianza (parte 2)**"
   ]
  },
  {
   "cell_type": "code",
   "execution_count": null,
   "metadata": {
    "vscode": {
     "languageId": "r"
    }
   },
   "outputs": [],
   "source": [
    "model_spec  <- ugarchspec(\n",
    "                          variance.model = list(model = \"sGARCH\", garchOrder = c(1, 1)), # nolint: line_length_linter.\n",
    "                          mean.model = list(armaOrder = c(0, 1), include.mean = TRUE),  # nolint: line_length_linter.\n",
    "                          distribution.model = \"norm\"\n",
    "                        )\n",
    "\n",
    "model  <- ugarchfit(spec = model_spec, data = trm$retorno)\n",
    "\n",
    "show(model)\n",
    "\n",
    "resid <-  residuals(model)\n",
    "\n",
    "var  <- sigma(model)\n",
    "\n",
    "resid_std  <-  resid / sqrt(var)\n",
    "\n",
    "resid_std2  <- resid_std^2\n",
    "\n",
    "trm$resid_std  <- coredata(resid_std)\n",
    "\n",
    "trm$resid_std2  <- coredata(resid_std2)\n",
    "\n",
    "head(trm)\n"
   ]
  },
  {
   "cell_type": "markdown",
   "metadata": {},
   "source": [
    "## **2.g. Verificar que el modelo captura las dinamicas**"
   ]
  },
  {
   "cell_type": "code",
   "execution_count": 145,
   "metadata": {
    "vscode": {
     "languageId": "r"
    }
   },
   "outputs": [
    {
     "data": {
      "image/png": "[encoded data removed]",
      "text/plain": [
       "plot without title"
      ]
     },
     "metadata": {
      "image/png": {
       "height": 420,
       "width": 420
      }
     },
     "output_type": "display_data"
    },
    {
     "data": {
      "image/png": "[encoded data removed]",
      "text/plain": [
       "plot without title"
      ]
     },
     "metadata": {
      "image/png": {
       "height": 420,
       "width": 420
      }
     },
     "output_type": "display_data"
    }
   ],
   "source": [
    "trm$fecha <- as.Date(paste0(trm$fecha, \"-01\"))\n",
    "\n",
    "plot  <-  ggplot(trm, aes(x = fecha, y = resid_std,group=1)) +\n",
    "  geom_line(color = \"steelblue\") +\n",
    "  labs(title = \"Residuales Estandarizados\", x = \"Fecha\", y = \"Rsidual\") +\n",
    "  geom_hline(yintercept = 0, linetype = \"dashed\", color = \"#000000\") +\n",
    "  theme_minimal() +\n",
    "  theme(\n",
    "    axis.text.x = element_text(angle = 45, hjust = 1),\n",
    "    plot.title = element_text(hjust = 0.5),\n",
    "    panel.background = element_rect(fill = \"#ffffff\"),\n",
    "    plot.background = element_rect(fill = \"#ffffff\", color = NA)\n",
    "  )\n",
    "plot\n",
    "\n",
    "ggsave(\"output\\\\graf_resistd.png\", plot = plot, width = 8, height = 6, dpi = 300)\n",
    "\n",
    "plot  <-  ggplot(trm, aes(x = fecha, y = resid_std2,group=1)) +\n",
    "  geom_line(color = \"#ff0000\") +\n",
    "  labs(title = \"Residuales Estandarizados al Cuadrado\", x = \"Fecha\", y = \"Residual\") +\n",
    "  geom_hline(yintercept = 0, linetype = \"dashed\", color = \"#000000\") +\n",
    "  theme_minimal() +\n",
    "  theme(\n",
    "    axis.text.x = element_text(angle = 45, hjust = 1),\n",
    "    plot.title = element_text(hjust = 0.5),\n",
    "    panel.background = element_rect(fill = \"#ffffff\"),\n",
    "    plot.background = element_rect(fill = \"#ffffff\", color = NA)\n",
    "  )\n",
    "\n",
    "plot\n",
    "\n",
    "ggsave(\"output\\\\graf_resistd2.png\", plot = plot, width = 8, height = 6, dpi = 300)"
   ]
  },
  {
   "cell_type": "code",
   "execution_count": null,
   "metadata": {
    "vscode": {
     "languageId": "r"
    }
   },
   "outputs": [
    {
     "data": {
      "text/html": [
       "<table class=\"dataframe\">\n",
       "<caption>A data.frame: 3 × 3</caption>\n",
       "<thead>\n",
       "\t<tr><th scope=col>Rezago</th><th scope=col>Estad..istico</th><th scope=col>p_valor</th></tr>\n",
       "\t<tr><th scope=col>&lt;dbl&gt;</th><th scope=col>&lt;dbl&gt;</th><th scope=col>&lt;dbl&gt;</th></tr>\n",
       "</thead>\n",
       "<tbody>\n",
       "\t<tr><td> 5</td><td> 3.768133</td><td>0.5832582</td></tr>\n",
       "\t<tr><td>10</td><td> 8.231610</td><td>0.6062250</td></tr>\n",
       "\t<tr><td>15</td><td>13.362952</td><td>0.5742857</td></tr>\n",
       "</tbody>\n",
       "</table>\n"
      ],
      "text/latex": [
       "A data.frame: 3 × 3\n",
       "\\begin{tabular}{lll}\n",
       " Rezago & Estad..istico & p\\_valor\\\\\n",
       " <dbl> & <dbl> & <dbl>\\\\\n",
       "\\hline\n",
       "\t  5 &  3.768133 & 0.5832582\\\\\n",
       "\t 10 &  8.231610 & 0.6062250\\\\\n",
       "\t 15 & 13.362952 & 0.5742857\\\\\n",
       "\\end{tabular}\n"
      ],
      "text/markdown": [
       "\n",
       "A data.frame: 3 × 3\n",
       "\n",
       "| Rezago &lt;dbl&gt; | Estad..istico &lt;dbl&gt; | p_valor &lt;dbl&gt; |\n",
       "|---|---|---|\n",
       "|  5 |  3.768133 | 0.5832582 |\n",
       "| 10 |  8.231610 | 0.6062250 |\n",
       "| 15 | 13.362952 | 0.5742857 |\n",
       "\n"
      ],
      "text/plain": [
       "  Rezago Estad..istico p_valor  \n",
       "1  5      3.768133     0.5832582\n",
       "2 10      8.231610     0.6062250\n",
       "3 15     13.362952     0.5742857"
      ]
     },
     "metadata": {},
     "output_type": "display_data"
    },
    {
     "name": "stdout",
     "output_type": "stream",
     "text": [
      "\n",
      "% Table created by stargazer v.5.2.3 by Marek Hlavac, Social Policy Institute. E-mail: marek.hlavac at gmail.com\n",
      "% Date and time: dom, abr 06, 2025 - 18:25:46\n",
      "\\begin{table}[!htbp] \\centering \n",
      "  \\caption{Prueba Q para Residuales Estandarizados al Cuadrado} \n",
      "  \\label{tab:q_residstd2} \n",
      "\\begin{tabular}{@{\\extracolsep{5pt}} ccc} \n",
      "\\\\[-1.8ex]\\hline \n",
      "\\hline \\\\[-1.8ex] \n",
      "Rezago & Estad..istico & p\\_valor \\\\ \n",
      "\\hline \\\\[-1.8ex] \n",
      "$5$ & $3.768$ & $0.583$ \\\\ \n",
      "$10$ & $8.232$ & $0.606$ \\\\ \n",
      "$15$ & $13.363$ & $0.574$ \\\\ \n",
      "\\hline \\\\[-1.8ex] \n",
      "\\end{tabular} \n",
      "\\end{table} \n",
      "\n",
      "% Table created by stargazer v.5.2.3 by Marek Hlavac, Social Policy Institute. E-mail: marek.hlavac at gmail.com\n",
      "% Date and time: dom, abr 06, 2025 - 18:25:46\n",
      "\\begin{table}[H] \\centering \n",
      "  \\caption{Prueba Q para Residuales Estandarizados al Cuadrado} \n",
      "  \\label{tab:q_residstd2} \n",
      "\\begin{tabular}{@{\\extracolsep{5pt}} ccc} \n",
      "\\\\[-1.8ex]\\hline \n",
      "\\hline \\\\[-1.8ex] \n",
      "Rezago & Estad..istico & p\\_valor \\\\ \n",
      "\\hline \\\\[-1.8ex] \n",
      "$5$ & $3.768$ & $0.583$ \\\\ \n",
      "$10$ & $8.232$ & $0.606$ \\\\ \n",
      "$15$ & $13.363$ & $0.574$ \\\\ \n",
      "\\hline \\\\[-1.8ex] \n",
      "\\end{tabular} \n",
      "\\end{table} \n"
     ]
    }
   ],
   "source": [
    "lags <- c(5, 10, 15)\n",
    "\n",
    "results <- lapply(lags, function(lag_val) {\n",
    "  test <- Box.test(trm$resid_std2, lag = lag_val, type = \"Ljung-Box\")\n",
    "  data.frame(\n",
    "    Rezago = lag_val,\n",
    "    `Estad\\\\'istico` = test$statistic,\n",
    "    p_valor = test$p.value\n",
    "  )\n",
    "})\n",
    "\n",
    "\n",
    "df_q_test <- do.call(rbind, results)\n",
    "\n",
    "rownames(df_q_test) <- NULL\n",
    "\n",
    "df_q_test\n",
    "\n",
    "latex_txt  <- stargazer(as.matrix(df_q_test), summary = FALSE, rownames = FALSE, type = \"latex\", label = \"tab:q_residstd2\",title = \"Prueba Q para Residuales Estandarizados al Cuadrado\")\n",
    "\n",
    "\n",
    "latex_txt <- gsub(\n",
    "  pattern = \"^\\\\\\\\begin\\\\{table\\\\}\\\\[!htbp\\\\] \\\\\\\\centering\",\n",
    "  replacement = \"\\\\\\\\begin{table}[H] \\\\\\\\centering\",\n",
    "  x = latex_txt\n",
    ")\n",
    "\n",
    "# Check the result\n",
    "cat(latex_txt, sep = \"\\n\")\n",
    "\n",
    "writeLines(latex_txt, \"output\\\\q_resid2.tex\")\n"
   ]
  }
 ],
 "metadata": {
  "kernelspec": {
   "display_name": "R",
   "language": "R",
   "name": "ir"
  },
  "language_info": {
   "codemirror_mode": "r",
   "file_extension": ".r",
   "mimetype": "text/x-r-source",
   "name": "R",
   "pygments_lexer": "r",
   "version": "4.4.2"
  }
 },
 "nbformat": 4,
 "nbformat_minor": 2
}
