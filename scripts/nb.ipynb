{
 "cells": [
  {
   "cell_type": "markdown",
   "metadata": {},
   "source": [
    "# **Configuración inicial**"
   ]
  },
  {
   "cell_type": "code",
   "execution_count": null,
   "metadata": {},
   "outputs": [],
   "source": [
    "import pandas as pd\n",
    "import numpy as np\n",
    "from stargazer.stargazer import Stargazer\n",
    "from statsmodels.graphics.tsaplots import plot_acf, plot_pacf\n",
    "from statsmodels.tsa.arima.model import ARIMA\n",
    "from statsmodels.tsa.stattools import adfuller, acf, pacf\n",
    "import scipy as sc\n",
    "import statsmodels as stats\n",
    "import arch \n",
    "import matplotlib.pyplot as plt\n",
    "import os \n",
    "import rpy2.robjects as ro\n",
    "from rpy2.robjects.packages import importr\n",
    "from rpy2.robjects import pandas2ri\n",
    "\n",
    "stg = importr('stargazer')\n",
    "\n",
    "if os.getcwd().split('\\\\')[len(os.getcwd().split('\\\\'))-1] != \"202510-Series-Taller2\":\n",
    "    os.chdir(\"..\")\n",
    "print(os.getcwd())"
   ]
  },
  {
   "cell_type": "markdown",
   "metadata": {},
   "source": [
    "## **2.a. Cargue de datos, transformación y grafico de la serie**"
   ]
  },
  {
   "cell_type": "code",
   "execution_count": null,
   "metadata": {},
   "outputs": [],
   "source": [
    "data_trm = pd.read_excel(\"data\\\\TRM.xlsx\")\n",
    "\n",
    "data_trm = data_trm.rename(columns={'Fecha (dd/mm/aaaa)':'date','Tasa de cambio representativa del mercado (TRM)':'trm'})\n",
    "\n",
    "# Cobnnvertimos la columna fecha a datetime.\n",
    "data_trm['date'] = pd.to_datetime(data_trm['date'], format='%Y/%m/%d')\\\n",
    "\n",
    "# Especificamos que la columna date debe tomarse como index.\n",
    "data_trm.set_index('date', inplace=True)\n",
    "\n",
    "# Se especifica que la frecuencia es diaria.\n",
    "data_trm = data_trm.asfreq('D')\n",
    "\n",
    "data_trm = data_trm.resample(\"M\").mean()\n",
    "\n",
    "print(data_trm)"
   ]
  },
  {
   "cell_type": "code",
   "execution_count": null,
   "metadata": {},
   "outputs": [],
   "source": [
    "os.makedirs(\".\\\\output\", exist_ok=True)\n",
    "\n",
    "plt.figure(figsize=(10, 5))\n",
    "plt.plot(data_trm.index,data_trm['trm'],linestyle='-')\n",
    "plt.xlabel('Fecha')\n",
    "plt.ylabel('trm')\n",
    "plt.title('Tasa de Cambio (Promedio Mensual) 1991 - 2025')\n",
    "plt.grid(True)\n",
    "plt.savefig(\"output\\\\graf_trm.png\", dpi=300, bbox_inches='tight')\n",
    "plt.show()"
   ]
  },
  {
   "cell_type": "markdown",
   "metadata": {},
   "source": [
    "## **2.b. Retorno de la trm**"
   ]
  },
  {
   "cell_type": "code",
   "execution_count": null,
   "metadata": {},
   "outputs": [],
   "source": [
    "data_trm['retorno']=(np.log(data_trm['trm'])-np.log(data_trm['trm'].shift(1)))*100\n",
    "\n",
    "ret_promedio = pd.DataFrame({\"Estad\\\\'istico\": [\"Retorno Mensual Promedio\"], \"Valor\": [data_trm['retorno'].mean()]})\n",
    "\n",
    "latex_table = ret_promedio.to_latex(index=False, label=\"tab:retorno_promedio\", na_rep='0',multicolumn=True,position='H')\n",
    "latex_table = latex_table.replace(\"\\\\begin{tabular}\", \"\\\\centering\\n\\\\begin{tabular}\")\n",
    "latex_table = latex_table.replace(\"\\\\end{tabular}\", f\"\\\\end{{tabular}}\\n\\\\caption{{Retorno Promedio}}\")\n",
    "\n",
    "with open(\"output\\\\retorno_promedio.tex\", \"w\") as f:\n",
    "     f.write(latex_table)\n",
    "\n"
   ]
  },
  {
   "cell_type": "markdown",
   "metadata": {},
   "source": [
    "## **2.c. Retornos sin media al cuadrado**"
   ]
  },
  {
   "cell_type": "code",
   "execution_count": null,
   "metadata": {},
   "outputs": [],
   "source": [
    "data_trm['retorno2']=data_trm['retorno']-np.square(data_trm['retorno']-data_trm['retorno'].mean())\n",
    "data_trm['retorno_sin_media']=data_trm['retorno']-data_trm['retorno'].mean()\n",
    "\n",
    "fig, ax = plt.subplots(1, 2, figsize=(10, 4))\n",
    "\n",
    "ax[0].plot(data_trm.index,data_trm['retorno'],linestyle='-', label=\"Retorno Mensual\", color=\"b\")\n",
    "ax[0].set_title(\"Retornos Mensuales\")\n",
    "ax[0].legend()\n",
    "\n",
    "ax[1].plot(data_trm.index,data_trm['retorno2'],linestyle='-', label=\"Retorno Mensual uadrado\", color=\"r\")\n",
    "ax[1].set_title(\"Retornos Menusales al Cuadrado\")\n",
    "ax[1].legend()\n",
    "plt.savefig(\"output\\\\subplot_retornos.png\", dpi=300, bbox_inches='tight')\n",
    "plt.show()\n"
   ]
  },
  {
   "cell_type": "markdown",
   "metadata": {},
   "source": [
    "## **2.d. ARIMA**"
   ]
  },
  {
   "cell_type": "markdown",
   "metadata": {},
   "source": [
    "Revisamos si la serie es estacionaria"
   ]
  },
  {
   "cell_type": "code",
   "execution_count": 25,
   "metadata": {},
   "outputs": [],
   "source": [
    "test_result = adfuller(data_trm[\"retorno\"].dropna())\n",
    "\n",
    "test_result = {\n",
    "    '':[\"Estad\\\\'istico DF\", 'p-valor'],\n",
    "    'Valor':[round(test_result[0],4),round(test_result[1], 4)]\n",
    "}\n",
    "\n",
    "test_result = pd.DataFrame(test_result)\n",
    "\n",
    "latex_table = test_result.to_latex(index=False, label=\"tab:dickey_fuller\", na_rep='0',multicolumn=True,position='H',float_format=\"%.4f\")\n",
    "latex_table = latex_table.replace(\"\\\\begin{tabular}\", \"\\\\centering\\n\\\\begin{tabular}\")\n",
    "latex_table = latex_table.replace(\"\\\\end{tabular}\", f\"\\\\end{{tabular}}\\n\\\\caption{{Prueba Dickey-Fuller}}\")\n",
    "\n",
    "with open(\"output\\\\dikey_fuller.tex\", \"w\") as f:\n",
    "     f.write(latex_table)"
   ]
  },
  {
   "cell_type": "markdown",
   "metadata": {},
   "source": [
    "Como el p-valor es prácticamente 0, rechazamos la hipotesis nula y conluimos que no hay evidencia estadistica de que la serie tenga raíz unitaria. <br>\n",
    "Puede consultar la documentación de la función adfuller [aqui](https://www.statsmodels.org/dev/generated/statsmodels.tsa.stattools.adfuller.html). <br>\n",
    "Ahora miramos las autocorrelaciones para estimar los parámetros p y q."
   ]
  },
  {
   "cell_type": "code",
   "execution_count": 26,
   "metadata": {},
   "outputs": [
    {
     "data": {
      "image/png": "[encoded data removed]",
      "text/plain": [
       "<Figure size 1000x400 with 2 Axes>"
      ]
     },
     "metadata": {},
     "output_type": "display_data"
    }
   ],
   "source": [
    "data_trm2 = data_trm.dropna()\n",
    "\n",
    "fig, axes = plt.subplots(1, 2, figsize=(10, 4))\n",
    "\n",
    "plot_acf(data_trm2['retorno'], ax = axes[0], alpha=0.05, lags=20)\n",
    "plot_pacf(data_trm2['retorno'], ax = axes[1], alpha=0.05, lags=20)\n",
    "\n",
    "\n",
    "plt.savefig(\"output\\\\acf_pacf_retornos.png\", dpi=300, bbox_inches='tight')\n",
    "plt.tight_layout()\n",
    "plt.show()"
   ]
  },
  {
   "cell_type": "markdown",
   "metadata": {},
   "source": [
    "Vemos que las autocorrelaciones y las autocorrelaciones parciales rapidamente entran en los intervalos de confianza lo que refuerza la hipótesis de que la serie es estacionaria."
   ]
  },
  {
   "cell_type": "markdown",
   "metadata": {},
   "source": [
    "Realizamos un autoarima"
   ]
  },
  {
   "cell_type": "code",
   "execution_count": 30,
   "metadata": {},
   "outputs": [
    {
     "name": "stderr",
     "output_type": "stream",
     "text": [
      "c:\\Users\\NicolasLozano\\AppData\\Local\\Programs\\Python\\Python313\\Lib\\site-packages\\statsmodels\\tsa\\statespace\\sarimax.py:966: UserWarning: Non-stationary starting autoregressive parameters found. Using zeros as starting parameters.\n",
      "  warn('Non-stationary starting autoregressive parameters'\n",
      "c:\\Users\\NicolasLozano\\AppData\\Local\\Programs\\Python\\Python313\\Lib\\site-packages\\statsmodels\\tsa\\statespace\\sarimax.py:978: UserWarning: Non-invertible starting MA parameters found. Using zeros as starting parameters.\n",
      "  warn('Non-invertible starting MA parameters found.'\n",
      "c:\\Users\\NicolasLozano\\AppData\\Local\\Programs\\Python\\Python313\\Lib\\site-packages\\statsmodels\\tsa\\statespace\\sarimax.py:966: UserWarning: Non-stationary starting autoregressive parameters found. Using zeros as starting parameters.\n",
      "  warn('Non-stationary starting autoregressive parameters'\n",
      "c:\\Users\\NicolasLozano\\AppData\\Local\\Programs\\Python\\Python313\\Lib\\site-packages\\statsmodels\\tsa\\statespace\\sarimax.py:978: UserWarning: Non-invertible starting MA parameters found. Using zeros as starting parameters.\n",
      "  warn('Non-invertible starting MA parameters found.'\n",
      "c:\\Users\\NicolasLozano\\AppData\\Local\\Programs\\Python\\Python313\\Lib\\site-packages\\statsmodels\\tsa\\statespace\\sarimax.py:966: UserWarning: Non-stationary starting autoregressive parameters found. Using zeros as starting parameters.\n",
      "  warn('Non-stationary starting autoregressive parameters'\n",
      "c:\\Users\\NicolasLozano\\AppData\\Local\\Programs\\Python\\Python313\\Lib\\site-packages\\statsmodels\\tsa\\statespace\\sarimax.py:978: UserWarning: Non-invertible starting MA parameters found. Using zeros as starting parameters.\n",
      "  warn('Non-invertible starting MA parameters found.'\n",
      "c:\\Users\\NicolasLozano\\AppData\\Local\\Programs\\Python\\Python313\\Lib\\site-packages\\statsmodels\\base\\model.py:607: ConvergenceWarning: Maximum Likelihood optimization failed to converge. Check mle_retvals\n",
      "  warnings.warn(\"Maximum Likelihood optimization failed to \"\n",
      "c:\\Users\\NicolasLozano\\AppData\\Local\\Programs\\Python\\Python313\\Lib\\site-packages\\statsmodels\\tsa\\statespace\\sarimax.py:966: UserWarning: Non-stationary starting autoregressive parameters found. Using zeros as starting parameters.\n",
      "  warn('Non-stationary starting autoregressive parameters'\n",
      "c:\\Users\\NicolasLozano\\AppData\\Local\\Programs\\Python\\Python313\\Lib\\site-packages\\statsmodels\\tsa\\statespace\\sarimax.py:978: UserWarning: Non-invertible starting MA parameters found. Using zeros as starting parameters.\n",
      "  warn('Non-invertible starting MA parameters found.'\n",
      "c:\\Users\\NicolasLozano\\AppData\\Local\\Programs\\Python\\Python313\\Lib\\site-packages\\statsmodels\\tsa\\statespace\\sarimax.py:966: UserWarning: Non-stationary starting autoregressive parameters found. Using zeros as starting parameters.\n",
      "  warn('Non-stationary starting autoregressive parameters'\n",
      "c:\\Users\\NicolasLozano\\AppData\\Local\\Programs\\Python\\Python313\\Lib\\site-packages\\statsmodels\\tsa\\statespace\\sarimax.py:978: UserWarning: Non-invertible starting MA parameters found. Using zeros as starting parameters.\n",
      "  warn('Non-invertible starting MA parameters found.'\n",
      "c:\\Users\\NicolasLozano\\AppData\\Local\\Programs\\Python\\Python313\\Lib\\site-packages\\statsmodels\\base\\model.py:607: ConvergenceWarning: Maximum Likelihood optimization failed to converge. Check mle_retvals\n",
      "  warnings.warn(\"Maximum Likelihood optimization failed to \"\n",
      "c:\\Users\\NicolasLozano\\AppData\\Local\\Programs\\Python\\Python313\\Lib\\site-packages\\statsmodels\\tsa\\statespace\\sarimax.py:966: UserWarning: Non-stationary starting autoregressive parameters found. Using zeros as starting parameters.\n",
      "  warn('Non-stationary starting autoregressive parameters'\n",
      "c:\\Users\\NicolasLozano\\AppData\\Local\\Programs\\Python\\Python313\\Lib\\site-packages\\statsmodels\\tsa\\statespace\\sarimax.py:978: UserWarning: Non-invertible starting MA parameters found. Using zeros as starting parameters.\n",
      "  warn('Non-invertible starting MA parameters found.'\n",
      "c:\\Users\\NicolasLozano\\AppData\\Local\\Programs\\Python\\Python313\\Lib\\site-packages\\statsmodels\\base\\model.py:607: ConvergenceWarning: Maximum Likelihood optimization failed to converge. Check mle_retvals\n",
      "  warnings.warn(\"Maximum Likelihood optimization failed to \"\n",
      "c:\\Users\\NicolasLozano\\AppData\\Local\\Programs\\Python\\Python313\\Lib\\site-packages\\statsmodels\\tsa\\statespace\\sarimax.py:966: UserWarning: Non-stationary starting autoregressive parameters found. Using zeros as starting parameters.\n",
      "  warn('Non-stationary starting autoregressive parameters'\n",
      "c:\\Users\\NicolasLozano\\AppData\\Local\\Programs\\Python\\Python313\\Lib\\site-packages\\statsmodels\\tsa\\statespace\\sarimax.py:978: UserWarning: Non-invertible starting MA parameters found. Using zeros as starting parameters.\n",
      "  warn('Non-invertible starting MA parameters found.'\n",
      "c:\\Users\\NicolasLozano\\AppData\\Local\\Programs\\Python\\Python313\\Lib\\site-packages\\statsmodels\\base\\model.py:607: ConvergenceWarning: Maximum Likelihood optimization failed to converge. Check mle_retvals\n",
      "  warnings.warn(\"Maximum Likelihood optimization failed to \"\n",
      "c:\\Users\\NicolasLozano\\AppData\\Local\\Programs\\Python\\Python313\\Lib\\site-packages\\statsmodels\\tsa\\statespace\\sarimax.py:966: UserWarning: Non-stationary starting autoregressive parameters found. Using zeros as starting parameters.\n",
      "  warn('Non-stationary starting autoregressive parameters'\n",
      "c:\\Users\\NicolasLozano\\AppData\\Local\\Programs\\Python\\Python313\\Lib\\site-packages\\statsmodels\\tsa\\statespace\\sarimax.py:978: UserWarning: Non-invertible starting MA parameters found. Using zeros as starting parameters.\n",
      "  warn('Non-invertible starting MA parameters found.'\n",
      "c:\\Users\\NicolasLozano\\AppData\\Local\\Programs\\Python\\Python313\\Lib\\site-packages\\statsmodels\\tsa\\statespace\\sarimax.py:966: UserWarning: Non-stationary starting autoregressive parameters found. Using zeros as starting parameters.\n",
      "  warn('Non-stationary starting autoregressive parameters'\n",
      "c:\\Users\\NicolasLozano\\AppData\\Local\\Programs\\Python\\Python313\\Lib\\site-packages\\statsmodels\\tsa\\statespace\\sarimax.py:978: UserWarning: Non-invertible starting MA parameters found. Using zeros as starting parameters.\n",
      "  warn('Non-invertible starting MA parameters found.'\n"
     ]
    },
    {
     "name": "stdout",
     "output_type": "stream",
     "text": [
      "2   3\n",
      "0   1\n"
     ]
    },
    {
     "name": "stderr",
     "output_type": "stream",
     "text": [
      "c:\\Users\\NicolasLozano\\AppData\\Local\\Programs\\Python\\Python313\\Lib\\site-packages\\statsmodels\\base\\model.py:607: ConvergenceWarning: Maximum Likelihood optimization failed to converge. Check mle_retvals\n",
      "  warnings.warn(\"Maximum Likelihood optimization failed to \"\n"
     ]
    }
   ],
   "source": [
    "ar=4\n",
    "ma=4\n",
    "\n",
    "matrix_aic = np.full((ar+1, ma+1), np.nan)\n",
    "matrix_bic = np.full((ar+1, ma+1),np.nan)\n",
    "\n",
    "for i in range(ar+1):\n",
    "    for j in range(ma+1):\n",
    "        model = ARIMA(data_trm2['retorno'], order=(i, 0, j))\n",
    "        model_fit = model.fit()\n",
    "\n",
    "        aic=model_fit.aic\n",
    "        bic=model_fit.bic\n",
    "\n",
    "        matrix_aic[i,j] =aic\n",
    "        matrix_bic[i,j] = bic\n",
    "\n",
    "min_aic=np.min(matrix_aic)\n",
    "min_bic=np.min(matrix_bic)\n",
    "\n",
    "aic_ar_min, aic_ma_min = np.unravel_index(np.argmin(matrix_aic), matrix_aic.shape) \n",
    "\n",
    "bic_ar_min, bic_ma_min = np.unravel_index(np.argmin(matrix_bic), matrix_bic.shape) \n",
    "\n",
    "print(f\"{aic_ar_min}   {aic_ma_min}\")\n",
    "\n",
    "print(f\"{bic_ar_min}   {bic_ma_min}\")\n",
    "\n",
    "df_aic = pd.DataFrame(matrix_aic, index=[\"0\", \"1\", \"2\",\"3\",\"4\"])\n",
    "latex_table = df_aic.to_latex(index=False, label=\"tab:autoarima_aic\", na_rep='0',multicolumn=True,position='H',float_format=\"%.4f\",index_names=True)\n",
    "latex_table = latex_table.replace(\"\\\\begin{tabular}\", \"\\\\centering\\n\\\\begin{tabular}\")\n",
    "latex_table = latex_table.replace(\"\\\\end{tabular}\", f\"\\\\end{{tabular}}\\n\\\\caption{{Criterio AIC}}\")\n",
    "latex_table = latex_table.replace(str(round(min_aic,4)), f\"\\\\textbf{{{round(min_aic,4)}}}\")\n",
    "\n",
    "with open(\"output\\\\autoarima_aic.tex\", \"w\") as f:\n",
    "     f.write(latex_table)\n",
    "\n",
    "df_bic = pd.DataFrame(matrix_bic,index=[\"0\", \"1\", \"2\",\"3\",\"4\"])\n",
    "latex_table = df_bic.to_latex(index=False, label=\"tab:autoarima_bic\", na_rep='0',multicolumn=True,position='H',float_format=\"%.4f\",index_names=True)\n",
    "latex_table = latex_table.replace(\"\\\\begin{tabular}\", \"\\\\centering\\n\\\\begin{tabular}\")\n",
    "latex_table = latex_table.replace(\"\\\\end{tabular}\", f\"\\\\end{{tabular}}\\n\\\\caption{{Criterio BIC}}\")\n",
    "latex_table = latex_table.replace(str(round(min_bic,4)), f\"\\\\textbf{{{round(min_bic,4)}}}\")\n",
    "\n",
    "with open(\"output\\\\autoarima_bic.tex\", \"w\") as f:\n",
    "     f.write(latex_table)\n"
   ]
  }
 ],
 "metadata": {
  "kernelspec": {
   "display_name": "Python 3",
   "language": "python",
   "name": "python3"
  },
  "language_info": {
   "codemirror_mode": {
    "name": "ipython",
    "version": 3
   },
   "file_extension": ".py",
   "mimetype": "text/x-python",
   "name": "python",
   "nbconvert_exporter": "python",
   "pygments_lexer": "ipython3",
   "version": "3.13.2"
  }
 },
 "nbformat": 4,
 "nbformat_minor": 2
}
